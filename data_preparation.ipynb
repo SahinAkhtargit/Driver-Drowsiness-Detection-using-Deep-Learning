{
 "cells": [
  {
   "cell_type": "code",
   "execution_count": 1,
   "id": "649fb07d",
   "metadata": {},
   "outputs": [],
   "source": [
    "import os\n",
    "import shutil\n",
    "import glob\n",
    "from tqdm import tqdm"
   ]
  },
  {
   "cell_type": "markdown",
   "id": "2841c461",
   "metadata": {},
   "source": [
    "subject ID:\n",
    "xxx\n",
    "\n",
    "image number:\n",
    "xxx\n",
    "\n",
    "gender:\n",
    "0 - male\n",
    "1 - famale\n",
    "\n",
    "glasses:\n",
    "0 - no\n",
    "1 - yes\n",
    "\n",
    "eye state:\n",
    "0 - close\n",
    "1 - open\n",
    "\n",
    "reflections:\n",
    "0 - none\n",
    "1 - low\n",
    "2 - high\n",
    "\n",
    "lighting conditions/image quality:\n",
    "0 - bad\n",
    "1 - good\n",
    "\n",
    "sensor type:\n",
    "01 - RealSense SR300 640x480\n",
    "02 - IDS Imaging, 1280x1024\n",
    "03 - Aptina Imagin 752x480\n",
    "\n",
    "example:\n",
    "s001_00123_0_0_0_0_0_01.png\n",
    "\n",
    "\n",
    "\n",
    "\n"
   ]
  },
  {
   "cell_type": "code",
   "execution_count": 3,
   "id": "7273d49d",
   "metadata": {},
   "outputs": [
    {
     "name": "stderr",
     "output_type": "stream",
     "text": [
      "0it [00:00, ?it/s]\n",
      "0it [00:00, ?it/s]\n",
      "0it [00:00, ?it/s]\n",
      "100%|██████████| 1069/1069 [00:05<00:00, 180.81it/s]\n",
      "100%|██████████| 736/736 [00:03<00:00, 194.44it/s]\n",
      "100%|██████████| 1012/1012 [00:05<00:00, 189.29it/s]\n",
      "100%|██████████| 624/624 [00:03<00:00, 192.03it/s]\n",
      "100%|██████████| 832/832 [00:04<00:00, 198.45it/s]\n",
      "100%|██████████| 387/387 [00:01<00:00, 200.71it/s]\n",
      "100%|██████████| 399/399 [00:02<00:00, 198.62it/s]\n",
      "100%|██████████| 1648/1648 [00:08<00:00, 186.47it/s]\n",
      "100%|██████████| 8728/8728 [00:44<00:00, 196.48it/s]\n",
      "100%|██████████| 3605/3605 [00:18<00:00, 199.45it/s]\n",
      "100%|██████████| 8884/8884 [00:45<00:00, 195.74it/s]\n",
      "100%|██████████| 1132/1132 [00:05<00:00, 195.53it/s]\n",
      "100%|██████████| 1889/1889 [00:09<00:00, 195.55it/s]\n",
      "100%|██████████| 1648/1648 [00:08<00:00, 194.65it/s]\n",
      "100%|██████████| 4410/4410 [00:22<00:00, 197.14it/s]\n",
      "100%|██████████| 6175/6175 [00:31<00:00, 195.55it/s]\n",
      "100%|██████████| 704/704 [00:03<00:00, 179.47it/s]\n",
      "100%|██████████| 987/987 [00:05<00:00, 178.07it/s]\n",
      "100%|██████████| 382/382 [00:02<00:00, 186.55it/s]\n",
      "100%|██████████| 522/522 [00:02<00:00, 177.79it/s]\n",
      "100%|██████████| 752/752 [00:04<00:00, 181.93it/s]\n",
      "100%|██████████| 1502/1502 [00:08<00:00, 169.91it/s]\n",
      "100%|██████████| 1246/1246 [00:06<00:00, 185.31it/s]\n",
      "100%|██████████| 665/665 [00:04<00:00, 158.71it/s]\n",
      "100%|██████████| 736/736 [00:04<00:00, 174.96it/s]\n",
      "100%|██████████| 1393/1393 [00:07<00:00, 178.26it/s]\n",
      "100%|██████████| 1384/1384 [00:08<00:00, 168.13it/s]\n",
      "100%|██████████| 1738/1738 [00:10<00:00, 171.30it/s]\n",
      "100%|██████████| 6162/6162 [00:43<00:00, 142.98it/s]\n",
      "100%|██████████| 681/681 [00:04<00:00, 158.98it/s]\n",
      "100%|██████████| 739/739 [00:04<00:00, 160.41it/s]\n",
      "100%|██████████| 642/642 [00:03<00:00, 165.58it/s]\n",
      "100%|██████████| 6193/6193 [00:35<00:00, 173.92it/s]\n",
      "100%|██████████| 10257/10257 [00:55<00:00, 183.28it/s]\n"
     ]
    }
   ],
   "source": [
    "Raw_DIR=r'C:\\Users\\sahin\\OneDrive\\Desktop\\drowsiness_detection\\mrlEye_dataset\\mrlEyes_2018_01'\n",
    "for dirpath,dirname,filenames in os.walk(Raw_DIR):\n",
    "    for i in tqdm([f for f in filenames if f.endswith('.png')]):\n",
    "        if i.split('_')[4]=='0':\n",
    "            shutil.copy(src=dirpath+'/'+i, dst=r'C:\\Users\\sahin\\OneDrive\\Desktop\\drowsiness_detection\\mrlEye_dataset\\Prepared_Data\\Close Eyes')\n",
    "        elif i.split('_')[4]=='1':\n",
    "            shutil.copy(src=dirpath+'/'+i,dst=r'C:\\Users\\sahin\\OneDrive\\Desktop\\drowsiness_detection\\mrlEye_dataset\\Prepared_Data\\Open Eyes')\n",
    "            "
   ]
  },
  {
   "cell_type": "code",
   "execution_count": null,
   "id": "ecb334e1",
   "metadata": {},
   "outputs": [],
   "source": []
  }
 ],
 "metadata": {
  "kernelspec": {
   "display_name": "Python 3 (ipykernel)",
   "language": "python",
   "name": "python3"
  },
  "language_info": {
   "codemirror_mode": {
    "name": "ipython",
    "version": 3
   },
   "file_extension": ".py",
   "mimetype": "text/x-python",
   "name": "python",
   "nbconvert_exporter": "python",
   "pygments_lexer": "ipython3",
   "version": "3.8.8"
  }
 },
 "nbformat": 4,
 "nbformat_minor": 5
}
